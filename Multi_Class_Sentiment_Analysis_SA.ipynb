{
  "cells": [
    {
      "cell_type": "code",
      "execution_count": null,
      "metadata": {
        "colab": {
          "base_uri": "https://localhost:8080/"
        },
        "id": "tMfhlmSV0FQb",
        "outputId": "42ce9fc4-0412-4824-a411-65a4420db957"
      },
      "outputs": [
        {
          "output_type": "stream",
          "name": "stderr",
          "text": [
            "[nltk_data] Downloading package stopwords to /root/nltk_data...\n",
            "[nltk_data]   Package stopwords is already up-to-date!\n",
            "[nltk_data] Downloading package punkt to /root/nltk_data...\n",
            "[nltk_data]   Package punkt is already up-to-date!\n",
            "[nltk_data] Downloading package wordnet to /root/nltk_data...\n",
            "[nltk_data]   Package wordnet is already up-to-date!\n"
          ]
        },
        {
          "output_type": "execute_result",
          "data": {
            "text/plain": [
              "True"
            ]
          },
          "metadata": {},
          "execution_count": 3
        }
      ],
      "source": [
        "import pandas as pd\n",
        "import nltk\n",
        "nltk.download('stopwords')\n",
        "from nltk.corpus import stopwords\n",
        "from nltk.tokenize import word_tokenize\n",
        "from nltk.stem import WordNetLemmatizer\n",
        "nltk.download('punkt')\n",
        "nltk.download('wordnet')\n"
      ]
    },
    {
      "cell_type": "markdown",
      "source": [
        "##Loading the data set"
      ],
      "metadata": {
        "id": "1fRVipFq0fwY"
      }
    },
    {
      "cell_type": "code",
      "execution_count": null,
      "metadata": {
        "id": "i02laETQ0FQd"
      },
      "outputs": [],
      "source": [
        "column_names = [\"target\", \"ids\", \"date\", \"flag\", \"user\", \"text\"]\n",
        "data = pd.read_csv('/content/training.1600000.processed.noemoticon.csv', encoding='latin1', names=column_names)\n"
      ]
    },
    {
      "cell_type": "markdown",
      "source": [
        "## Initial Data Analysis."
      ],
      "metadata": {
        "id": "zHYZGxEu0sKo"
      }
    },
    {
      "cell_type": "code",
      "execution_count": null,
      "metadata": {
        "colab": {
          "base_uri": "https://localhost:8080/"
        },
        "id": "6RwctrxJ0FQf",
        "outputId": "9155e02f-3665-4868-d0a6-73690b330e72"
      },
      "outputs": [
        {
          "output_type": "stream",
          "name": "stdout",
          "text": [
            "Displaying the first few rows of the dataset:\n",
            "   target         ids                          date      flag  \\\n",
            "0       0  1467810369  Mon Apr 06 22:19:45 PDT 2009  NO_QUERY   \n",
            "1       0  1467810672  Mon Apr 06 22:19:49 PDT 2009  NO_QUERY   \n",
            "2       0  1467810917  Mon Apr 06 22:19:53 PDT 2009  NO_QUERY   \n",
            "3       0  1467811184  Mon Apr 06 22:19:57 PDT 2009  NO_QUERY   \n",
            "4       0  1467811193  Mon Apr 06 22:19:57 PDT 2009  NO_QUERY   \n",
            "\n",
            "              user                                               text  \n",
            "0  _TheSpecialOne_  @switchfoot http://twitpic.com/2y1zl - Awww, t...  \n",
            "1    scotthamilton  is upset that he can't update his Facebook by ...  \n",
            "2         mattycus  @Kenichan I dived many times for the ball. Man...  \n",
            "3          ElleCTF    my whole body feels itchy and like its on fire   \n",
            "4           Karoli  @nationwideclass no, it's not behaving at all....  \n",
            "\n",
            "Column names in the dataset:\n",
            "Index(['target', 'ids', 'date', 'flag', 'user', 'text'], dtype='object')\n",
            "\n",
            "Data types of each column:\n",
            "target     int64\n",
            "ids        int64\n",
            "date      object\n",
            "flag      object\n",
            "user      object\n",
            "text      object\n",
            "dtype: object\n",
            "\n",
            "Checking for missing values in each column:\n",
            "target    0\n",
            "ids       0\n",
            "date      0\n",
            "flag      0\n",
            "user      0\n",
            "text      0\n",
            "dtype: int64\n",
            "\n",
            "Summary statistics for numerical columns:\n",
            "             target           ids\n",
            "count  1.600000e+06  1.600000e+06\n",
            "mean   2.000000e+00  1.998818e+09\n",
            "std    2.000001e+00  1.935761e+08\n",
            "min    0.000000e+00  1.467810e+09\n",
            "25%    0.000000e+00  1.956916e+09\n",
            "50%    2.000000e+00  2.002102e+09\n",
            "75%    4.000000e+00  2.177059e+09\n",
            "max    4.000000e+00  2.329206e+09\n",
            "\n",
            "Distribution of target classes:\n",
            "target\n",
            "0    800000\n",
            "4    800000\n",
            "Name: count, dtype: int64\n"
          ]
        }
      ],
      "source": [
        "# Display the first few rows of the dataset to get a sense of its structure and contents\n",
        "print(\"Displaying the first few rows of the dataset:\")\n",
        "print(data.head())\n",
        "\n",
        "# Print the column names to confirm the data's structure and identify the available features\n",
        "print(\"\\nColumn names in the dataset:\")\n",
        "print(data.columns)\n",
        "\n",
        "# Check the data types of each column to understand what kind of data we're working with\n",
        "# This helps identify numerical, categorical, or text data types in each column\n",
        "print(\"\\nData types of each column:\")\n",
        "print(data.dtypes)\n",
        "\n",
        "# Check for missing values in each column\n",
        "# This shows the total number of null values in each column, helping identify columns that need cleaning\n",
        "print(\"\\nChecking for missing values in each column:\")\n",
        "print(data.isnull().sum())\n",
        "\n",
        "# Display basic statistics for numerical columns to understand their distribution\n",
        "# Provides summary statistics like mean, standard deviation, min, and max values for numeric columns\n",
        "print(\"\\nSummary statistics for numerical columns:\")\n",
        "print(data.describe())\n",
        "\n",
        "# Check the distribution of the target variable to identify potential class imbalance issues\n",
        "# Replace 'target' with the name of your target column if different\n",
        "if 'target' in data.columns:\n",
        "    print(\"\\nDistribution of target classes:\")\n",
        "    print(data['target'].value_counts())\n",
        "else:\n",
        "    print(\"\\nNo target column found, please ensure the target variable is identified correctly.\")\n",
        "\n"
      ]
    },
    {
      "cell_type": "markdown",
      "source": [
        "##Data Cleaning"
      ],
      "metadata": {
        "id": "D05UvXn81Lfs"
      }
    },
    {
      "cell_type": "code",
      "execution_count": null,
      "metadata": {
        "id": "JXNDEki80FQf"
      },
      "outputs": [],
      "source": [
        "# Select only the 'target' and 'text' columns from the dataset for analysis\n",
        "# This is done to reduce the dataset to relevant columns (e.g., target sentiment and tweet text)\n",
        "data = data[['target', 'text']]\n",
        "\n",
        "# Drop rows where the 'text' column has missing (NaN) values\n",
        "# This step ensures that all rows have valid tweet text for analysis\n",
        "# 'inplace=True' modifies the DataFrame directly without needing to reassign it\n",
        "data.dropna(subset=['text'], inplace=True)\n"
      ]
    },
    {
      "cell_type": "code",
      "execution_count": null,
      "metadata": {
        "colab": {
          "base_uri": "https://localhost:8080/"
        },
        "id": "phVHiU270FQf",
        "outputId": "d928504d-2da8-4983-98d8-43ee2fbc6ce3"
      },
      "outputs": [
        {
          "output_type": "stream",
          "name": "stdout",
          "text": [
            "   target                                               text\n",
            "0       0  @switchfoot http://twitpic.com/2y1zl - Awww, t...\n",
            "1       0  is upset that he can't update his Facebook by ...\n",
            "2       0  @Kenichan I dived many times for the ball. Man...\n",
            "3       0    my whole body feels itchy and like its on fire \n",
            "4       0  @nationwideclass no, it's not behaving at all....\n",
            "Index(['target', 'text'], dtype='object')\n"
          ]
        }
      ],
      "source": [
        "print(data.head())\n",
        "print(data.columns)"
      ]
    },
    {
      "cell_type": "code",
      "execution_count": null,
      "metadata": {
        "id": "NyTxThST0FQg"
      },
      "outputs": [],
      "source": [
        "# Keep only the 'target' and 'text' columns for simplicity in further analysis\n",
        "data = data[['target', 'text']]\n",
        "\n",
        "# Drop rows where the 'text' column has missing (NaN) values\n",
        "# This step ensures that all rows have valid tweet text for analysis\n",
        "# 'inplace=True' modifies the DataFrame directly without needing to reassign it\n",
        "data.dropna(subset=['text'], inplace=True)\n",
        "\n",
        "# Define a function to clean text data by removing unnecessary characters and stopwords\n",
        "def clean_text(text):\n",
        "    # Convert the text to lowercase to ensure consistency in analysis\n",
        "    text = text.lower()\n",
        "\n",
        "    # Remove any non-alphabetic characters except spaces\n",
        "    # This keeps only letters and spaces, removing punctuation, numbers, and special characters\n",
        "    ct = ''.join([char for char in text if char.isalpha() or char.isspace()])\n",
        "\n",
        "    # Split text into individual words for further filtering\n",
        "    words = ct.split()\n",
        "\n",
        "    # Define a basic list of stopwords to remove common words that don't add meaning\n",
        "    stopwords = ['the', 'is', 'in', 'and', 'to', 'of', 'a', 'that', 'it', 'on', 'for', 'with', 'as', 'was', 'at', 'by', 'an', 'be']\n",
        "\n",
        "    # Filter out stopwords from the list of words\n",
        "    words = [word for word in words if word not in stopwords]\n",
        "\n",
        "    # Rejoin the cleaned words back into a single string\n",
        "    return ' '.join(words)\n",
        "\n",
        "# Apply the clean_text function to each row in the 'text' column\n",
        "# The cleaned text is stored in a new column 'ct' for further analysis\n",
        "data['ct'] = data['text'].apply(clean_text)\n"
      ]
    },
    {
      "cell_type": "code",
      "execution_count": null,
      "metadata": {
        "id": "zzfDzlj_0FQg"
      },
      "outputs": [],
      "source": [
        "# lemmatizer = WordNetLemmatizer()\n",
        "\n",
        "# def tokenize_and_lemmatize(text):\n",
        "#     tokens = text.split()\n",
        "\n",
        "#     lemmatized_tokens = [lemmatizer.lemmatize(token) for token in tokens]\n",
        "\n",
        "#     return ' '.join(lemmatized_tokens)\n",
        "\n",
        "# data['pt'] = data['ct'].apply(tokenize_and_lemmatize)\n"
      ]
    },
    {
      "cell_type": "code",
      "source": [
        "# Convert relevant object columns to category type\n",
        "# Check if 'target' and other object columns would benefit from this conversion\n",
        "data['target'] = data['target'].astype('category')\n",
        "\n",
        "# Convert other object columns to 'category' if they are retained in the dataset\n",
        "# Uncomment if these columns are kept for analysis\n",
        "# data['user'] = data['user'].astype('category')\n",
        "# data['flag'] = data['flag'].astype('category')\n",
        "\n",
        "# Verify the data types after conversion\n",
        "print(data.dtypes)\n"
      ],
      "metadata": {
        "colab": {
          "base_uri": "https://localhost:8080/"
        },
        "id": "4yE9urYZ7M5p",
        "outputId": "0800c6e0-b2c0-414c-e509-16fc2b16e233"
      },
      "execution_count": null,
      "outputs": [
        {
          "output_type": "stream",
          "name": "stdout",
          "text": [
            "target    category\n",
            "text        object\n",
            "ct          object\n",
            "dtype: object\n"
          ]
        }
      ]
    },
    {
      "cell_type": "code",
      "execution_count": null,
      "metadata": {
        "colab": {
          "base_uri": "https://localhost:8080/"
        },
        "id": "ug2GlNnI0FQh",
        "outputId": "2446ffba-e762-43e5-8361-abcbc9bfa3a2"
      },
      "outputs": [
        {
          "output_type": "stream",
          "name": "stdout",
          "text": [
            "        target                                               text  \\\n",
            "0            0  @switchfoot http://twitpic.com/2y1zl - Awww, t...   \n",
            "1            0  is upset that he can't update his Facebook by ...   \n",
            "2            0  @Kenichan I dived many times for the ball. Man...   \n",
            "3            0    my whole body feels itchy and like its on fire    \n",
            "4            0  @nationwideclass no, it's not behaving at all....   \n",
            "...        ...                                                ...   \n",
            "1599995      4  Just woke up. Having no school is the best fee...   \n",
            "1599996      4  TheWDB.com - Very cool to hear old Walt interv...   \n",
            "1599997      4  Are you ready for your MoJo Makeover? Ask me f...   \n",
            "1599998      4  Happy 38th Birthday to my boo of alll time!!! ...   \n",
            "1599999      4  happy #charitytuesday @theNSPCC @SparksCharity...   \n",
            "\n",
            "                                                        ct  \n",
            "0        switchfoot httptwitpiccomyzl awww thats bummer...  \n",
            "1        upset he cant update his facebook texting migh...  \n",
            "2        kenichan i dived many times ball managed save ...  \n",
            "3                  my whole body feels itchy like its fire  \n",
            "4        nationwideclass no its not behaving all im mad...  \n",
            "...                                                    ...  \n",
            "1599995    just woke up having no school best feeling ever  \n",
            "1599996  thewdbcom very cool hear old walt interviews â...  \n",
            "1599997    are you ready your mojo makeover ask me details  \n",
            "1599998  happy th birthday my boo alll time tupac amaru...  \n",
            "1599999  happy charitytuesday thenspcc sparkscharity sp...  \n",
            "\n",
            "[1600000 rows x 3 columns]\n"
          ]
        }
      ],
      "source": [
        "print(data)"
      ]
    },
    {
      "cell_type": "markdown",
      "source": [
        "##Data Visualization"
      ],
      "metadata": {
        "id": "oGqEC_eN1eZ9"
      }
    },
    {
      "cell_type": "markdown",
      "source": [
        "#1. Class Distribution - Bar Plot\n",
        "This shows the distribution of each sentiment class, helping identify any class imbalance."
      ],
      "metadata": {
        "id": "YvPCdaJR1hQF"
      }
    },
    {
      "cell_type": "code",
      "source": [
        "import matplotlib.pyplot as plt\n",
        "import seaborn as sns\n",
        "\n",
        "# Plot class distribution\n",
        "plt.figure(figsize=(8, 5))\n",
        "sns.countplot(x='target', data=data, palette='viridis')\n",
        "plt.title(\"Distribution of Sentiment Classes\")\n",
        "plt.xlabel(\"Sentiment Class\")\n",
        "plt.ylabel(\"Count\")\n",
        "plt.show()\n"
      ],
      "metadata": {
        "colab": {
          "base_uri": "https://localhost:8080/",
          "height": 594
        },
        "id": "m343FRVn1kRL",
        "outputId": "b66dedfe-e2ae-41ef-ba41-ddd37cc78fb8"
      },
      "execution_count": null,
      "outputs": [
        {
          "output_type": "stream",
          "name": "stderr",
          "text": [
            "<ipython-input-12-f5553a3ae47a>:6: FutureWarning: \n",
            "\n",
            "Passing `palette` without assigning `hue` is deprecated and will be removed in v0.14.0. Assign the `x` variable to `hue` and set `legend=False` for the same effect.\n",
            "\n",
            "  sns.countplot(x='target', data=data, palette='viridis')\n"
          ]
        },
        {
          "output_type": "display_data",
          "data": {
            "text/plain": [
              "<Figure size 800x500 with 1 Axes>"
            ],
            "image/png": "[encoded data removed]"
          },
          "metadata": {}
        }
      ]
    },
    {
      "cell_type": "markdown",
      "source": [
        "#2. Word Count Distribution - Histogram\n",
        "Display the distribution of word counts in each tweet to see if most tweets are short, long, or have varied lengths."
      ],
      "metadata": {
        "id": "OdcQKu6e3OTl"
      }
    },
    {
      "cell_type": "code",
      "source": [
        "# Add a new column with word count for each tweet in the 'text' column\n",
        "data['word_count'] = data['text'].apply(lambda x: len(x.split()))\n",
        "\n",
        "# Plot word count distribution\n",
        "import matplotlib.pyplot as plt\n",
        "import seaborn as sns\n",
        "\n",
        "plt.figure(figsize=(10, 6))\n",
        "sns.histplot(data['word_count'], bins=30, kde=True, color='skyblue')\n",
        "plt.title(\"Distribution of Word Counts in Tweets\")\n",
        "plt.xlabel(\"Word Count\")\n",
        "plt.ylabel(\"Frequency\")\n",
        "plt.show()\n"
      ],
      "metadata": {
        "colab": {
          "base_uri": "https://localhost:8080/",
          "height": 551
        },
        "id": "dVmZkZOf3TEx",
        "outputId": "7271e32d-77fd-4d9e-8eea-e1d0cabc7a2f"
      },
      "execution_count": null,
      "outputs": [
        {
          "output_type": "display_data",
          "data": {
            "text/plain": [
              "<Figure size 1000x600 with 1 Axes>"
            ],
            "image/png": "[encoded data removed]"
          },
          "metadata": {}
        }
      ]
    },
    {
      "cell_type": "markdown",
      "source": [
        "#3. Term Frequency Distribution\n",
        "Bar Plot of Most Common Words"
      ],
      "metadata": {
        "id": "S0FNiciu3Wu6"
      }
    },
    {
      "cell_type": "code",
      "source": [
        "from collections import Counter\n",
        "import matplotlib.pyplot as plt\n",
        "import seaborn as sns\n",
        "\n",
        "# Get all words in a single list from the 'text' column\n",
        "all_words = ' '.join(data['text']).split()\n",
        "word_counts = Counter(all_words)\n",
        "\n",
        "# Most common 20 words\n",
        "common_words = word_counts.most_common(20)\n",
        "words, counts = zip(*common_words)\n",
        "\n",
        "# Plot most common words\n",
        "plt.figure(figsize=(10, 6))\n",
        "sns.barplot(x=list(counts), y=list(words), palette='magma')\n",
        "plt.title(\"Most Common Words in Tweets\")\n",
        "plt.xlabel(\"Frequency\")\n",
        "plt.ylabel(\"Words\")\n",
        "plt.show()\n"
      ],
      "metadata": {
        "colab": {
          "base_uri": "https://localhost:8080/",
          "height": 669
        },
        "id": "YxTM3W0_3aIq",
        "outputId": "c60268c9-5f04-49e4-8b5b-8b686b421332"
      },
      "execution_count": null,
      "outputs": [
        {
          "output_type": "stream",
          "name": "stderr",
          "text": [
            "<ipython-input-14-6a797a4ae268>:15: FutureWarning: \n",
            "\n",
            "Passing `palette` without assigning `hue` is deprecated and will be removed in v0.14.0. Assign the `y` variable to `hue` and set `legend=False` for the same effect.\n",
            "\n",
            "  sns.barplot(x=list(counts), y=list(words), palette='magma')\n"
          ]
        },
        {
          "output_type": "display_data",
          "data": {
            "text/plain": [
              "<Figure size 1000x600 with 1 Axes>"
            ],
            "image/png": "[encoded data removed]"
          },
          "metadata": {}
        }
      ]
    },
    {
      "cell_type": "markdown",
      "source": [
        "#4. Correlation Heatmap (if Numeric Features are Available)\n",
        "Although text data is non-numeric, if you create numeric features (like word count, character count), you can examine correlations between them and sentiment."
      ],
      "metadata": {
        "id": "9-vQWwUH3edR"
      }
    },
    {
      "cell_type": "code",
      "source": [
        "# Calculate correlations (if you have numeric features like word_count, character_count, etc.)\n",
        "numeric_data = data[['target', 'word_count']]  # Add any other numeric features you might create\n",
        "\n",
        "plt.figure(figsize=(6, 5))\n",
        "sns.heatmap(numeric_data.corr(), annot=True, cmap='coolwarm', fmt='.2f')\n",
        "plt.title(\"Correlation Heatmap of Numeric Features\")\n",
        "plt.show()\n"
      ],
      "metadata": {
        "colab": {
          "base_uri": "https://localhost:8080/",
          "height": 468
        },
        "id": "N3TskNmA3hiv",
        "outputId": "4126cc3e-7d04-40e3-f7ed-2399725be4a4"
      },
      "execution_count": null,
      "outputs": [
        {
          "output_type": "display_data",
          "data": {
            "text/plain": [
              "<Figure size 600x500 with 2 Axes>"
            ],
            "image/png": "[encoded data removed]"
          },
          "metadata": {}
        }
      ]
    },
    {
      "cell_type": "markdown",
      "source": [
        "#5. Pair Plot (if Multiple Numeric Features are Available)\n",
        "If you have multiple numeric features, a pair plot can help visualize pairwise relationships, but it’s more relevant if you have additional numeric columns."
      ],
      "metadata": {
        "id": "-PsCjh5S3lYV"
      }
    },
    {
      "cell_type": "code",
      "source": [
        "# Pair plot (only if additional numeric features exist, such as character count)\n",
        "sns.pairplot(numeric_data, hue='target', palette='cool', diag_kind='kde')\n",
        "plt.suptitle(\"Pair Plot of Numeric Features by Sentiment Class\", y=1.02)\n",
        "plt.show()\n"
      ],
      "metadata": {
        "colab": {
          "base_uri": "https://localhost:8080/",
          "height": 282
        },
        "id": "ZkA4tCWc3uwF",
        "outputId": "a066ee62-34dc-421a-b39d-9fd4f293347f"
      },
      "execution_count": null,
      "outputs": [
        {
          "output_type": "display_data",
          "data": {
            "text/plain": [
              "<Figure size 303.611x250 with 2 Axes>"
            ],
            "image/png": "[encoded data removed]"
          },
          "metadata": {}
        }
      ]
    },
    {
      "cell_type": "markdown",
      "source": [
        "##Feature Engineering"
      ],
      "metadata": {
        "id": "FBy0vKvL9TfP"
      }
    },
    {
      "cell_type": "code",
      "source": [
        "# Feature Engineering: Add new text-based features to enhance the dataset\n",
        "\n",
        "# Word count: Count the number of words in each tweet\n",
        "data['word_count'] = data['text'].apply(lambda x: len(x.split()))\n",
        "\n",
        "# Character count: Count the number of characters in each tweet\n",
        "data['char_count'] = data['text'].apply(lambda x: len(x))\n",
        "\n",
        "# Punctuation count: Count the number of punctuation marks in each tweet\n",
        "data['punctuation_count'] = data['text'].apply(lambda x: sum([1 for char in x if char in '.,!?;:']))\n",
        "\n",
        "# Display the dataset with new features\n",
        "print(data[['text', 'word_count', 'char_count', 'punctuation_count']].head())\n"
      ],
      "metadata": {
        "colab": {
          "base_uri": "https://localhost:8080/"
        },
        "id": "q559nrwo9RQF",
        "outputId": "bb9eb337-d3ff-4ad5-cb0c-822fb8385ffd"
      },
      "execution_count": null,
      "outputs": [
        {
          "output_type": "stream",
          "name": "stdout",
          "text": [
            "                                                text  word_count  char_count  \\\n",
            "0  @switchfoot http://twitpic.com/2y1zl - Awww, t...          19         115   \n",
            "1  is upset that he can't update his Facebook by ...          21         111   \n",
            "2  @Kenichan I dived many times for the ball. Man...          18          89   \n",
            "3    my whole body feels itchy and like its on fire           10          47   \n",
            "4  @nationwideclass no, it's not behaving at all....          21         111   \n",
            "\n",
            "   punctuation_count  \n",
            "0                  6  \n",
            "1                  5  \n",
            "2                  1  \n",
            "3                  0  \n",
            "4                  5  \n"
          ]
        }
      ]
    },
    {
      "cell_type": "code",
      "source": [
        "from sklearn.feature_extraction.text import TfidfVectorizer\n",
        "from scipy.sparse import hstack\n",
        "from sklearn.model_selection import train_test_split\n",
        "\n",
        "# Assuming 'text' and 'target' are your main columns\n",
        "X = data['text']\n",
        "y = data['target']\n",
        "\n",
        "# Split data into training and testing sets\n",
        "X_train, X_test, y_train, y_test = train_test_split(X, y, test_size=0.3, random_state=42)\n",
        "\n",
        "# Initialize the TF-IDF Vectorizer\n",
        "tfidf_vectorizer = TfidfVectorizer(max_df=0.95, min_df=5, ngram_range=(1, 2), stop_words='english')\n",
        "\n",
        "# Transform the training and test text data to TF-IDF feature matrices\n",
        "X_train_tfidf_nb = tfidf_vectorizer.fit_transform(X_train)\n",
        "X_test_tfidf_nb = tfidf_vectorizer.transform(X_test)\n",
        "\n",
        "\n",
        "# Extract additional features for train and test sets\n",
        "additional_features_train = data[['word_count', 'char_count', 'punctuation_count']].loc[X_train.index]\n",
        "additional_features_test = data[['word_count', 'char_count', 'punctuation_count']].loc[X_test.index]\n",
        "\n",
        "# Combine TF-IDF matrix with additional features for both training and test sets\n",
        "X_train_combined = hstack([X_train_tfidf_nb, additional_features_train])\n",
        "X_test_combined = hstack([X_test_tfidf_nb, additional_features_test])\n"
      ],
      "metadata": {
        "id": "e7WYlnlT9mBc"
      },
      "execution_count": null,
      "outputs": []
    },
    {
      "cell_type": "markdown",
      "source": [
        "##Training"
      ],
      "metadata": {
        "id": "Sxov461d8clj"
      }
    },
    {
      "cell_type": "code",
      "execution_count": null,
      "metadata": {
        "id": "AaeSAFLk0FQh"
      },
      "outputs": [],
      "source": [
        "from sklearn.model_selection import train_test_split\n",
        "\n",
        "# Ensure 'pt' exists or replace it with 'text' if 'pt' is not defined\n",
        "# Assuming 'text' is the column containing the tweet text\n",
        "if 'pt' not in data.columns:\n",
        "    # If 'pt' was meant to be a processed version, you could create it here\n",
        "    # For example, make a simple copy of 'text' as 'pt' if no processing has been done yet\n",
        "    data['pt'] = data['text']  # This line creates 'pt' based on 'text' if 'pt' doesn't exist\n",
        "\n",
        "# Set 'X' as the feature data and 'y' as the target variable\n",
        "X = data['pt']  # Feature: processed and lemmatized text data\n",
        "y = data['target']  # Target: sentiment labels (0 or 4 in this case)\n",
        "\n",
        "# Split the data into training and testing sets\n",
        "X_train, X_test, y_train, y_test = train_test_split(X, y, test_size=0.3, random_state=42)\n"
      ]
    },
    {
      "cell_type": "code",
      "execution_count": null,
      "metadata": {
        "id": "J6Izf6L50FQh"
      },
      "outputs": [],
      "source": [
        "from sklearn.feature_extraction.text import TfidfVectorizer\n",
        "\n",
        "tfidf_vectorizer_nb = TfidfVectorizer(max_df=0.95, min_df=5, ngram_range=(1, 2), stop_words='english')\n",
        "\n",
        "X_train_tfidf_nb = tfidf_vectorizer_nb.fit_transform(X_train)\n",
        "\n",
        "X_test_tfidf_nb = tfidf_vectorizer_nb.transform(X_test)"
      ]
    },
    {
      "cell_type": "markdown",
      "source": [
        "##Feature Engineering and transitions smoothly into Step 6: Training by preparing X_train_tfidf_nb and X_test_tfidf_nb matrices, which are ready for model training."
      ],
      "metadata": {
        "id": "r1OBhyTb-8zj"
      }
    },
    {
      "cell_type": "code",
      "execution_count": null,
      "metadata": {
        "id": "2JUqyU2v0FQi"
      },
      "outputs": [],
      "source": [
        "import numpy as np\n",
        "from collections import Counter\n",
        "from math import log\n",
        "from scipy.sparse import csr_matrix\n",
        "\n",
        "stop_words = set(['the', 'is', 'in', 'and', 'to', 'of', 'a', 'that', 'it', 'on', 'for', 'with', 'as', 'was', 'at', 'by', 'an', 'be'])\n",
        "\n",
        "def make_ngrams(txt, ng_range=(1, 1)):\n",
        "    wrds = txt.split()\n",
        "    ng_list = []\n",
        "    for n in range(ng_range[0], ng_range[1] + 1):\n",
        "        ng_list.extend([' '.join(wrds[i:i + n]) for i in range(len(wrds) - n + 1)])\n",
        "    return ng_list\n",
        "\n",
        "def get_tf(doc, ng_range=(1, 2)):\n",
        "    terms = make_ngrams(doc, ng_range=ng_range)\n",
        "    filt_terms = [term for term in terms if term not in stop_words]\n",
        "    term_count = Counter(filt_terms)\n",
        "    total_terms = sum(term_count.values())\n",
        "    tf_vals = {term: count / total_terms for term, count in term_count.items()}\n",
        "    return tf_vals\n",
        "\n",
        "def get_idf(all_docs, min_df=5, max_df=0.95, ng_range=(1, 2)):\n",
        "    total_docs = len(all_docs)\n",
        "    doc_count = Counter()\n",
        "\n",
        "    for doc in all_docs:\n",
        "        unique_terms = set(make_ngrams(doc, ng_range=ng_range))\n",
        "        for term in unique_terms:\n",
        "            if term not in stop_words:\n",
        "                doc_count[term] += 1\n",
        "\n",
        "    min_count = min_df\n",
        "    max_count = max_df * total_docs\n",
        "    filt_terms = {term: count for term, count in doc_count.items() if min_count <= count <= max_count}\n",
        "\n",
        "    idf_vals = {term: log((total_docs + 1) / (count + 1)) for term, count in filt_terms.items()}\n",
        "    return idf_vals\n",
        "\n",
        "def calc_tfidf(docs, idf_vals, ng_range=(1, 2)):\n",
        "    tfidf_all = []\n",
        "    for doc in docs:\n",
        "        tf_vals = get_tf(doc, ng_range=ng_range)\n",
        "        tfidf_vals = {term: tf_val * idf_vals.get(term, 0) for term, tf_val in tf_vals.items()}\n",
        "\n",
        "        norm = np.sqrt(sum(val ** 2 for val in tfidf_vals.values()))\n",
        "        if norm > 0:\n",
        "            tfidf_vals = {term: val / norm for term, val in tfidf_vals.items()}\n",
        "\n",
        "        tfidf_all.append(tfidf_vals)\n",
        "    return tfidf_all\n",
        "\n",
        "X_train_list = X_train.tolist()\n",
        "X_test_list = X_test.tolist()\n",
        "\n",
        "idf_vals_train = get_idf(X_train_list, min_df=5, max_df=0.95, ng_range=(1, 2))\n",
        "\n",
        "tfidf_train = calc_tfidf(X_train_list, idf_vals_train, ng_range=(1, 2))\n",
        "tfidf_test = calc_tfidf(X_test_list, idf_vals_train, ng_range=(1, 2))\n",
        "\n",
        "\n",
        "feat_names = list(idf_vals_train.keys())\n",
        "feat_index = {term: i for i, term in enumerate(feat_names)}\n",
        "\n",
        "def to_sparse_mat(tfidf_docs, feat_index):\n",
        "    rows, cols, vals = [], [], []\n",
        "\n",
        "    for row, tfidf in enumerate(tfidf_docs):\n",
        "        for term, val in tfidf.items():\n",
        "            if term in feat_index:\n",
        "                rows.append(row)\n",
        "                cols.append(feat_index[term])\n",
        "                vals.append(val)\n",
        "\n",
        "    return csr_matrix((vals, (rows, cols)), shape=(len(tfidf_docs), len(feat_index)))\n",
        "\n",
        "X_train_tfidf_nb = to_sparse_mat(tfidf_train, feat_index)\n",
        "X_test_tfidf_nb = to_sparse_mat(tfidf_test, feat_index)\n"
      ]
    },
    {
      "cell_type": "markdown",
      "metadata": {
        "id": "xOYq_LnP0FQj"
      },
      "source": [
        "## MultinomialNB"
      ]
    },
    {
      "cell_type": "code",
      "execution_count": null,
      "metadata": {
        "id": "ZdfKrU760FQk"
      },
      "outputs": [],
      "source": [
        "from sklearn.naive_bayes import MultinomialNB\n",
        "from sklearn.metrics import accuracy_score, precision_score, recall_score, f1_score\n",
        "\n",
        "nb_model_unique = MultinomialNB()"
      ]
    },
    {
      "cell_type": "code",
      "execution_count": null,
      "metadata": {
        "id": "TcWDVTKE0FQk"
      },
      "outputs": [],
      "source": [
        "from sklearn.naive_bayes import MultinomialNB\n",
        "from sklearn.metrics import accuracy_score, precision_score, recall_score, f1_score\n",
        "\n",
        "# Initialize the Multinomial Naive Bayes model\n",
        "# This model is well-suited for text classification, as it works with TF-IDF features\n",
        "nb_model_unique = MultinomialNB()\n"
      ]
    },
    {
      "cell_type": "code",
      "execution_count": null,
      "metadata": {
        "colab": {
          "base_uri": "https://localhost:8080/",
          "height": 339
        },
        "id": "iYiNSnE00FQl",
        "outputId": "b0afa48b-cfe9-4168-ac18-30760832bbed"
      },
      "outputs": [
        {
          "output_type": "error",
          "ename": "NotFittedError",
          "evalue": "This MultinomialNB instance is not fitted yet. Call 'fit' with appropriate arguments before using this estimator.",
          "traceback": [
            "\u001b[0;31m---------------------------------------------------------------------------\u001b[0m",
            "\u001b[0;31mNotFittedError\u001b[0m                            Traceback (most recent call last)",
            "\u001b[0;32m<ipython-input-25-1ef62fb443e7>\u001b[0m in \u001b[0;36m<cell line: 2>\u001b[0;34m()\u001b[0m\n\u001b[1;32m      1\u001b[0m \u001b[0;31m# Use the trained Naive Bayes model to predict sentiment labels for the test set\u001b[0m\u001b[0;34m\u001b[0m\u001b[0;34m\u001b[0m\u001b[0m\n\u001b[0;32m----> 2\u001b[0;31m \u001b[0my_pred_nb\u001b[0m \u001b[0;34m=\u001b[0m \u001b[0mnb_model_unique\u001b[0m\u001b[0;34m.\u001b[0m\u001b[0mpredict\u001b[0m\u001b[0;34m(\u001b[0m\u001b[0mX_test_tfidf_nb\u001b[0m\u001b[0;34m)\u001b[0m\u001b[0;34m\u001b[0m\u001b[0;34m\u001b[0m\u001b[0m\n\u001b[0m",
            "\u001b[0;32m/usr/local/lib/python3.10/dist-packages/sklearn/naive_bayes.py\u001b[0m in \u001b[0;36mpredict\u001b[0;34m(self, X)\u001b[0m\n\u001b[1;32m     98\u001b[0m             \u001b[0mPredicted\u001b[0m \u001b[0mtarget\u001b[0m \u001b[0mvalues\u001b[0m \u001b[0;32mfor\u001b[0m \u001b[0mX\u001b[0m\u001b[0;34m.\u001b[0m\u001b[0;34m\u001b[0m\u001b[0;34m\u001b[0m\u001b[0m\n\u001b[1;32m     99\u001b[0m         \"\"\"\n\u001b[0;32m--> 100\u001b[0;31m         \u001b[0mcheck_is_fitted\u001b[0m\u001b[0;34m(\u001b[0m\u001b[0mself\u001b[0m\u001b[0;34m)\u001b[0m\u001b[0;34m\u001b[0m\u001b[0;34m\u001b[0m\u001b[0m\n\u001b[0m\u001b[1;32m    101\u001b[0m         \u001b[0mX\u001b[0m \u001b[0;34m=\u001b[0m \u001b[0mself\u001b[0m\u001b[0;34m.\u001b[0m\u001b[0m_check_X\u001b[0m\u001b[0;34m(\u001b[0m\u001b[0mX\u001b[0m\u001b[0;34m)\u001b[0m\u001b[0;34m\u001b[0m\u001b[0;34m\u001b[0m\u001b[0m\n\u001b[1;32m    102\u001b[0m         \u001b[0mjll\u001b[0m \u001b[0;34m=\u001b[0m \u001b[0mself\u001b[0m\u001b[0;34m.\u001b[0m\u001b[0m_joint_log_likelihood\u001b[0m\u001b[0;34m(\u001b[0m\u001b[0mX\u001b[0m\u001b[0;34m)\u001b[0m\u001b[0;34m\u001b[0m\u001b[0;34m\u001b[0m\u001b[0m\n",
            "\u001b[0;32m/usr/local/lib/python3.10/dist-packages/sklearn/utils/validation.py\u001b[0m in \u001b[0;36mcheck_is_fitted\u001b[0;34m(estimator, attributes, msg, all_or_any)\u001b[0m\n\u001b[1;32m   1659\u001b[0m \u001b[0;34m\u001b[0m\u001b[0m\n\u001b[1;32m   1660\u001b[0m     \u001b[0;32mif\u001b[0m \u001b[0;32mnot\u001b[0m \u001b[0m_is_fitted\u001b[0m\u001b[0;34m(\u001b[0m\u001b[0mestimator\u001b[0m\u001b[0;34m,\u001b[0m \u001b[0mattributes\u001b[0m\u001b[0;34m,\u001b[0m \u001b[0mall_or_any\u001b[0m\u001b[0;34m)\u001b[0m\u001b[0;34m:\u001b[0m\u001b[0;34m\u001b[0m\u001b[0;34m\u001b[0m\u001b[0m\n\u001b[0;32m-> 1661\u001b[0;31m         \u001b[0;32mraise\u001b[0m \u001b[0mNotFittedError\u001b[0m\u001b[0;34m(\u001b[0m\u001b[0mmsg\u001b[0m \u001b[0;34m%\u001b[0m \u001b[0;34m{\u001b[0m\u001b[0;34m\"name\"\u001b[0m\u001b[0;34m:\u001b[0m \u001b[0mtype\u001b[0m\u001b[0;34m(\u001b[0m\u001b[0mestimator\u001b[0m\u001b[0;34m)\u001b[0m\u001b[0;34m.\u001b[0m\u001b[0m__name__\u001b[0m\u001b[0;34m}\u001b[0m\u001b[0;34m)\u001b[0m\u001b[0;34m\u001b[0m\u001b[0;34m\u001b[0m\u001b[0m\n\u001b[0m\u001b[1;32m   1662\u001b[0m \u001b[0;34m\u001b[0m\u001b[0m\n\u001b[1;32m   1663\u001b[0m \u001b[0;34m\u001b[0m\u001b[0m\n",
            "\u001b[0;31mNotFittedError\u001b[0m: This MultinomialNB instance is not fitted yet. Call 'fit' with appropriate arguments before using this estimator."
          ]
        }
      ],
      "source": [
        "# Use the trained Naive Bayes model to predict sentiment labels for the test set\n",
        "y_pred_nb = nb_model_unique.predict(X_test_tfidf_nb)\n"
      ]
    },
    {
      "cell_type": "code",
      "execution_count": null,
      "metadata": {
        "id": "gpCKNUCm0FQl",
        "colab": {
          "base_uri": "https://localhost:8080/",
          "height": 211
        },
        "outputId": "72e0ba3d-26f1-4ec6-942e-eb7676a8bc5b"
      },
      "outputs": [
        {
          "output_type": "error",
          "ename": "NameError",
          "evalue": "name 'y_pred_nb' is not defined",
          "traceback": [
            "\u001b[0;31m---------------------------------------------------------------------------\u001b[0m",
            "\u001b[0;31mNameError\u001b[0m                                 Traceback (most recent call last)",
            "\u001b[0;32m<ipython-input-27-1ffc4517c60c>\u001b[0m in \u001b[0;36m<cell line: 2>\u001b[0;34m()\u001b[0m\n\u001b[1;32m      1\u001b[0m \u001b[0;31m# Calculate and print evaluation metrics\u001b[0m\u001b[0;34m\u001b[0m\u001b[0;34m\u001b[0m\u001b[0m\n\u001b[0;32m----> 2\u001b[0;31m \u001b[0maccuracy\u001b[0m \u001b[0;34m=\u001b[0m \u001b[0maccuracy_score\u001b[0m\u001b[0;34m(\u001b[0m\u001b[0my_test\u001b[0m\u001b[0;34m,\u001b[0m \u001b[0my_pred_nb\u001b[0m\u001b[0;34m)\u001b[0m\u001b[0;34m\u001b[0m\u001b[0;34m\u001b[0m\u001b[0m\n\u001b[0m\u001b[1;32m      3\u001b[0m \u001b[0mprecision\u001b[0m \u001b[0;34m=\u001b[0m \u001b[0mprecision_score\u001b[0m\u001b[0;34m(\u001b[0m\u001b[0my_test\u001b[0m\u001b[0;34m,\u001b[0m \u001b[0my_pred_nb\u001b[0m\u001b[0;34m,\u001b[0m \u001b[0mpos_label\u001b[0m\u001b[0;34m=\u001b[0m\u001b[0;36m4\u001b[0m\u001b[0;34m)\u001b[0m\u001b[0;34m\u001b[0m\u001b[0;34m\u001b[0m\u001b[0m\n\u001b[1;32m      4\u001b[0m \u001b[0mrecall\u001b[0m \u001b[0;34m=\u001b[0m \u001b[0mrecall_score\u001b[0m\u001b[0;34m(\u001b[0m\u001b[0my_test\u001b[0m\u001b[0;34m,\u001b[0m \u001b[0my_pred_nb\u001b[0m\u001b[0;34m,\u001b[0m \u001b[0mpos_label\u001b[0m\u001b[0;34m=\u001b[0m\u001b[0;36m4\u001b[0m\u001b[0;34m)\u001b[0m\u001b[0;34m\u001b[0m\u001b[0;34m\u001b[0m\u001b[0m\n\u001b[1;32m      5\u001b[0m \u001b[0mf1\u001b[0m \u001b[0;34m=\u001b[0m \u001b[0mf1_score\u001b[0m\u001b[0;34m(\u001b[0m\u001b[0my_test\u001b[0m\u001b[0;34m,\u001b[0m \u001b[0my_pred_nb\u001b[0m\u001b[0;34m,\u001b[0m \u001b[0mpos_label\u001b[0m\u001b[0;34m=\u001b[0m\u001b[0;36m4\u001b[0m\u001b[0;34m)\u001b[0m\u001b[0;34m\u001b[0m\u001b[0;34m\u001b[0m\u001b[0m\n",
            "\u001b[0;31mNameError\u001b[0m: name 'y_pred_nb' is not defined"
          ]
        }
      ],
      "source": [
        "# Calculate and print evaluation metrics\n",
        "accuracy = accuracy_score(y_test, y_pred_nb)\n",
        "precision = precision_score(y_test, y_pred_nb, pos_label=4)\n",
        "recall = recall_score(y_test, y_pred_nb, pos_label=4)\n",
        "f1 = f1_score(y_test, y_pred_nb, pos_label=4)\n",
        "\n",
        "print(f\"Accuracy: {accuracy:.4f}\")\n",
        "print(f\"Precision: {precision:.4f}\")\n",
        "print(f\"Recall: {recall:.4f}\")\n",
        "print(f\"F1 Score: {f1:.4f}\")\n"
      ]
    },
    {
      "cell_type": "markdown",
      "metadata": {
        "id": "NTvmS52b0FQl"
      },
      "source": [
        "## Custom Classifier Naive Bayes"
      ]
    },
    {
      "cell_type": "code",
      "execution_count": null,
      "metadata": {
        "id": "P6nDq-mA0FQm"
      },
      "outputs": [],
      "source": [
        "import numpy as np\n",
        "from scipy.sparse import csr_matrix\n",
        "from collections import defaultdict\n",
        "from math import log\n",
        "from sklearn.metrics import accuracy_score, precision_score, recall_score, f1_score\n",
        "\n",
        "# Function to calculate class priors\n",
        "# Priors represent the probability of each class occurring in the training set\n",
        "def get_class_priors(y_trn):\n",
        "    cls_counts = {}\n",
        "    total_docs = len(y_trn)\n",
        "    for cls in y_trn:\n",
        "        if cls not in cls_counts:\n",
        "            cls_counts[cls] = 0\n",
        "        cls_counts[cls] += 1\n",
        "    priors = {cls: count / total_docs for cls, count in cls_counts.items()}\n",
        "    return priors\n",
        "\n",
        "# Function to calculate word likelihoods for each class\n",
        "# This function computes conditional probabilities of words given a class, using Laplace smoothing\n",
        "def get_word_likes(X_trn, y_trn, feat_idx, smooth=1):\n",
        "    # Initialize word counts for each class\n",
        "    cls_word_counts = {cls: [0] * len(feat_idx) for cls in set(y_trn)}\n",
        "\n",
        "    # Sum the occurrences of each word for each class\n",
        "    for cls in set(y_trn):\n",
        "        cls_idxs = [i for i, label in enumerate(y_trn) if label == cls]\n",
        "        cls_word_counts[cls] = X_trn[cls_idxs].sum(axis=0).A1  # Convert sparse row to an array\n",
        "\n",
        "    # Calculate smoothed word likelihoods\n",
        "    word_likes = {}\n",
        "    for cls, word_counts in cls_word_counts.items():\n",
        "        tot_words = sum(word_counts)\n",
        "        word_likes[cls] = [(count + smooth) / (tot_words + smooth * len(feat_idx)) for count in word_counts]\n",
        "    return word_likes\n",
        "\n",
        "# Prediction function for Naive Bayes\n",
        "# Computes log probabilities of each class and chooses the class with the highest probability for each instance\n",
        "def pred_nb(X_tst, cls_priors, word_likes):\n",
        "    preds = []\n",
        "    log_cls_priors = {cls: log(prior) for cls, prior in cls_priors.items()}\n",
        "    log_word_likes = {cls: [log(prob) for prob in word_likes[cls]] for cls in word_likes}\n",
        "\n",
        "    # Iterate through each test instance\n",
        "    for row in X_tst:\n",
        "        log_probs = {}\n",
        "        row_idx = row.indices  # Get non-zero indices in the sparse row\n",
        "        row_vals = row.data    # Get corresponding values in the sparse row\n",
        "\n",
        "        for cls in cls_priors:\n",
        "            log_prob = log_cls_priors[cls]\n",
        "            for i in range(len(row_idx)):\n",
        "                log_prob += row_vals[i] * log_word_likes[cls][row_idx[i]]\n",
        "            log_probs[cls] = log_prob\n",
        "        preds.append(max(log_probs, key=log_probs.get))  # Select class with highest log-probability\n",
        "    return preds\n",
        "\n",
        "# Prepare the training labels as a list\n",
        "y_trn_lst = list(y_train)\n",
        "\n",
        "# Calculate class priors and word likelihoods for training data\n",
        "cls_priors = get_class_priors(y_trn_lst)\n",
        "word_likes = get_word_likes(X_train_tfidf_nb, y_trn_lst, feat_index, smooth=1)\n",
        "\n",
        "# Use the custom Naive Bayes model to make predictions on the test set\n",
        "y_pred_custom_nb = pred_nb(X_test_tfidf_nb, cls_priors, word_likes)\n",
        "\n",
        "# Calculate evaluation metrics for the custom Naive Bayes model\n",
        "acc_nb = accuracy_score(y_test, y_pred_custom_nb)\n",
        "prec_nb = precision_score(y_test, y_pred_custom_nb, average='weighted')\n",
        "rec_nb = recall_score(y_test, y_pred_custom_nb, average='weighted')\n",
        "f1_nb = f1_score(y_test, y_pred_custom_nb, average='weighted')\n",
        "\n",
        "# Output the performance of the custom Naive Bayes model\n",
        "print(f\"Custom Naive Bayes Accuracy: {acc_nb}\")\n",
        "print(f\"Custom Naive Bayes Precision: {prec_nb}\")\n",
        "print(f\"Custom Naive Bayes Recall: {rec_nb}\")\n",
        "print(f\"Custom Naive Bayes F1 Score: {f1_nb}\")\n"
      ]
    },
    {
      "cell_type": "markdown",
      "metadata": {
        "id": "DA5J8Ha00FQn"
      },
      "source": [
        "##Logistic Regression model"
      ]
    },
    {
      "cell_type": "code",
      "execution_count": null,
      "metadata": {
        "id": "fYpk4hPf0FQo"
      },
      "outputs": [],
      "source": [
        "from sklearn.linear_model import LogisticRegression\n",
        "\n",
        "# Initialize the Logistic Regression model\n",
        "# C=1.0 is the regularization parameter; higher values mean less regularization\n",
        "# penalty='l2' applies L2 regularization, which helps prevent overfitting\n",
        "# solver='saga' is used for large datasets and supports L2 regularization\n",
        "# max_iter=100 sets the maximum number of iterations to 100, ensuring convergence\n",
        "log_reg_model = LogisticRegression(C=1.0, penalty='l2', solver='saga', max_iter=100)\n"
      ]
    },
    {
      "cell_type": "code",
      "execution_count": null,
      "metadata": {
        "id": "TgGKu5Le0FQo"
      },
      "outputs": [],
      "source": [
        "# Train the Logistic Regression model on the training data\n",
        "log_reg_model.fit(X_train_tfidf_nb, y_train)\n"
      ]
    },
    {
      "cell_type": "code",
      "execution_count": null,
      "metadata": {
        "id": "BH5pd_Nm0FQp"
      },
      "outputs": [],
      "source": [
        "# Use the trained Logistic Regression model to predict sentiment labels for the test set\n",
        "y_pred = log_reg_model.predict(X_test_tfidf_nb)\n"
      ]
    },
    {
      "cell_type": "code",
      "execution_count": null,
      "metadata": {
        "id": "mxGv0OUT0FQp",
        "colab": {
          "base_uri": "https://localhost:8080/",
          "height": 211
        },
        "outputId": "1ecb4a69-c1f0-4a54-c158-bb522652483f"
      },
      "outputs": [
        {
          "output_type": "error",
          "ename": "NameError",
          "evalue": "name 'y_pred' is not defined",
          "traceback": [
            "\u001b[0;31m---------------------------------------------------------------------------\u001b[0m",
            "\u001b[0;31mNameError\u001b[0m                                 Traceback (most recent call last)",
            "\u001b[0;32m<ipython-input-28-476a37e99d8f>\u001b[0m in \u001b[0;36m<cell line: 4>\u001b[0;34m()\u001b[0m\n\u001b[1;32m      2\u001b[0m \u001b[0;34m\u001b[0m\u001b[0m\n\u001b[1;32m      3\u001b[0m \u001b[0;31m# Calculate evaluation metrics\u001b[0m\u001b[0;34m\u001b[0m\u001b[0;34m\u001b[0m\u001b[0m\n\u001b[0;32m----> 4\u001b[0;31m \u001b[0maccuracy\u001b[0m \u001b[0;34m=\u001b[0m \u001b[0maccuracy_score\u001b[0m\u001b[0;34m(\u001b[0m\u001b[0my_test\u001b[0m\u001b[0;34m,\u001b[0m \u001b[0my_pred\u001b[0m\u001b[0;34m)\u001b[0m\u001b[0;34m\u001b[0m\u001b[0;34m\u001b[0m\u001b[0m\n\u001b[0m\u001b[1;32m      5\u001b[0m \u001b[0mprecision\u001b[0m \u001b[0;34m=\u001b[0m \u001b[0mprecision_score\u001b[0m\u001b[0;34m(\u001b[0m\u001b[0my_test\u001b[0m\u001b[0;34m,\u001b[0m \u001b[0my_pred\u001b[0m\u001b[0;34m,\u001b[0m \u001b[0maverage\u001b[0m\u001b[0;34m=\u001b[0m\u001b[0;34m'weighted'\u001b[0m\u001b[0;34m)\u001b[0m\u001b[0;34m\u001b[0m\u001b[0;34m\u001b[0m\u001b[0m\n\u001b[1;32m      6\u001b[0m \u001b[0mrecall\u001b[0m \u001b[0;34m=\u001b[0m \u001b[0mrecall_score\u001b[0m\u001b[0;34m(\u001b[0m\u001b[0my_test\u001b[0m\u001b[0;34m,\u001b[0m \u001b[0my_pred\u001b[0m\u001b[0;34m,\u001b[0m \u001b[0maverage\u001b[0m\u001b[0;34m=\u001b[0m\u001b[0;34m'weighted'\u001b[0m\u001b[0;34m)\u001b[0m\u001b[0;34m\u001b[0m\u001b[0;34m\u001b[0m\u001b[0m\n",
            "\u001b[0;31mNameError\u001b[0m: name 'y_pred' is not defined"
          ]
        }
      ],
      "source": [
        "from sklearn.metrics import accuracy_score, precision_score, recall_score, f1_score\n",
        "\n",
        "# Calculate evaluation metrics\n",
        "accuracy = accuracy_score(y_test, y_pred)\n",
        "precision = precision_score(y_test, y_pred, average='weighted')\n",
        "recall = recall_score(y_test, y_pred, average='weighted')\n",
        "f1 = f1_score(y_test, y_pred, average='weighted')\n",
        "\n",
        "# Print the performance metrics\n",
        "print(f\"Accuracy: {accuracy}\")\n",
        "print(f\"Precision: {precision}\")\n",
        "print(f\"Recall: {recall}\")\n",
        "print(f\"F1 Score: {f1}\")\n"
      ]
    },
    {
      "cell_type": "markdown",
      "source": [
        "##compares the performance metrics of the Naive Bayes and Logistic Regression models\n",
        "> Add blockquote\n",
        "\n"
      ],
      "metadata": {
        "id": "XT_W13DEA0N0"
      }
    },
    {
      "cell_type": "code",
      "execution_count": null,
      "metadata": {
        "id": "L8GJlbOm0FQp"
      },
      "outputs": [],
      "source": [
        "import pandas as pd\n",
        "from sklearn.metrics import accuracy_score, precision_score, recall_score, f1_score\n",
        "\n",
        "# Calculate metrics for Naive Bayes model\n",
        "accuracy_nb = accuracy_score(y_test, y_pred_nb)\n",
        "precision_nb = precision_score(y_test, y_pred_nb, average='weighted')\n",
        "recall_nb = recall_score(y_test, y_pred_nb, average='weighted')\n",
        "f1_nb = f1_score(y_test, y_pred_nb, average='weighted')\n",
        "\n",
        "# Calculate metrics for Logistic Regression model\n",
        "accuracy_lr = accuracy_score(y_test, y_pred)\n",
        "precision_lr = precision_score(y_test, y_pred, average='weighted')\n",
        "recall_lr = recall_score(y_test, y_pred, average='weighted')\n",
        "f1_lr = f1_score(y_test, y_pred, average='weighted')\n",
        "\n",
        "# Create a DataFrame to compare both models\n",
        "comparison_df = pd.DataFrame({\n",
        "    \"Model\": [\"Naive Bayes\", \"Logistic Regression\"],\n",
        "    \"Accuracy\": [accuracy_nb, accuracy_lr],\n",
        "    \"Precision\": [precision_nb, precision_lr],\n",
        "    \"Recall\": [recall_nb, recall_lr],\n",
        "    \"F1 Score\": [f1_nb, f1_lr]\n",
        "})\n",
        "\n",
        "# Display the comparison DataFrame\n",
        "print(comparison_df)\n"
      ]
    },
    {
      "cell_type": "markdown",
      "source": [
        "##Hyperparameter Tuning"
      ],
      "metadata": {
        "id": "JfxTsZ6lBIz7"
      }
    },
    {
      "cell_type": "code",
      "source": [
        "from sklearn.model_selection import GridSearchCV\n",
        "\n",
        "param_grid = {\n",
        "    'C': [0.1, 1.0, 10.0],\n",
        "    'penalty': ['l2'],\n",
        "    'solver': ['saga']\n",
        "}\n",
        "grid_search = GridSearchCV(LogisticRegression(max_iter=100), param_grid, cv=5, scoring='f1_weighted')\n",
        "grid_search.fit(X_train_tfidf_nb, y_train)\n",
        "print(\"Best parameters:\", grid_search.best_params_)\n",
        "print(\"Best F1 Score:\", grid_search.best_score_)\n"
      ],
      "metadata": {
        "id": "jU8LLbGDBK22"
      },
      "execution_count": null,
      "outputs": []
    },
    {
      "cell_type": "markdown",
      "source": [
        "## Ensemble Methods"
      ],
      "metadata": {
        "id": "r8RnMMiUBRAO"
      }
    },
    {
      "cell_type": "code",
      "source": [
        "from sklearn.ensemble import VotingClassifier\n",
        "\n",
        "ensemble_model = VotingClassifier(estimators=[\n",
        "    ('nb', nb_model_unique),\n",
        "    ('lr', log_reg_model)\n",
        "], voting='soft')\n",
        "\n",
        "ensemble_model.fit(X_train_tfidf_nb, y_train)\n",
        "y_pred_ensemble = ensemble_model.predict(X_test_tfidf_nb)\n",
        "# Evaluate the ensemble model\n"
      ],
      "metadata": {
        "id": "TPfi99ksBUnk"
      },
      "execution_count": null,
      "outputs": []
    },
    {
      "cell_type": "code",
      "execution_count": null,
      "metadata": {
        "id": "U4Ade_El0FQp"
      },
      "outputs": [],
      "source": [
        "! pip freeze > requirements.txt\n"
      ]
    }
  ],
  "metadata": {
    "kernelspec": {
      "display_name": "nlp",
      "language": "python",
      "name": "python3"
    },
    "language_info": {
      "codemirror_mode": {
        "name": "ipython",
        "version": 3
      },
      "file_extension": ".py",
      "mimetype": "text/x-python",
      "name": "python",
      "nbconvert_exporter": "python",
      "pygments_lexer": "ipython3",
      "version": "3.12.5"
    },
    "colab": {
      "provenance": []
    }
  },
  "nbformat": 4,
  "nbformat_minor": 0
}